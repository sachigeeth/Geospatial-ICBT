{
 "cells": [
  {
   "cell_type": "code",
   "execution_count": 355,
   "metadata": {},
   "outputs": [],
   "source": [
    "import pandas as pd \n",
    "import geopandas as gpd\n",
    "import matplotlib.pyplot as plt \n",
    "import folium\n",
    "from shapely.geometry import Point"
   ]
  },
  {
   "cell_type": "code",
   "execution_count": null,
   "metadata": {},
   "outputs": [],
   "source": [
    "hospital_gdf = gpd.read_file('data/hospitals in Vancouver, BC.shp')\n",
    "hospital_gdf.head()"
   ]
  },
  {
   "cell_type": "code",
   "execution_count": null,
   "metadata": {},
   "outputs": [],
   "source": [
    "boundary_gdf = gpd.read_file('data/local_area_boundary.shp')\n",
    "boundary_gdf.head()"
   ]
  },
  {
   "cell_type": "code",
   "execution_count": null,
   "metadata": {},
   "outputs": [],
   "source": [
    "road_gdf = gpd.read_file('data/Roads.shp')\n",
    "road_gdf.head()"
   ]
  },
  {
   "cell_type": "code",
   "execution_count": null,
   "metadata": {},
   "outputs": [],
   "source": [
    "street_gdf = gpd.read_file('data/non_city_streets.shp')\n",
    "street_gdf.head()"
   ]
  },
  {
   "cell_type": "code",
   "execution_count": null,
   "metadata": {},
   "outputs": [],
   "source": [
    "sub_street_gdf = gpd.read_file('data/Sub_Streets.shp')\n",
    "sub_street_gdf.head()"
   ]
  },
  {
   "cell_type": "code",
   "execution_count": null,
   "metadata": {},
   "outputs": [],
   "source": [
    "metro_gdf = gpd.read_file('data/Metro_line.shp')\n",
    "metro_gdf.head()"
   ]
  },
  {
   "cell_type": "code",
   "execution_count": null,
   "metadata": {},
   "outputs": [],
   "source": [
    "washroom_gdf = gpd.read_file('data/public_washrooms.shp')\n",
    "washroom_gdf.head()"
   ]
  },
  {
   "cell_type": "code",
   "execution_count": null,
   "metadata": {},
   "outputs": [],
   "source": [
    "district_gdf = gpd.read_file('data/zoning_districts.shp')\n",
    "district_gdf.head()"
   ]
  },
  {
   "cell_type": "code",
   "execution_count": null,
   "metadata": {},
   "outputs": [],
   "source": [
    "fire_gdf = gpd.read_file('data/fire_halls.shp')\n",
    "fire_gdf.head()"
   ]
  },
  {
   "cell_type": "code",
   "execution_count": null,
   "metadata": {},
   "outputs": [],
   "source": [
    "hospital_gdf.plot(edgecolor='black')\n",
    "plt.show()"
   ]
  },
  {
   "cell_type": "code",
   "execution_count": null,
   "metadata": {},
   "outputs": [],
   "source": [
    "hospital_gdf.plot(edgecolor='black')\n",
    "plt.show()"
   ]
  },
  {
   "cell_type": "code",
   "execution_count": null,
   "metadata": {},
   "outputs": [],
   "source": [
    "boundary_gdf.plot(edgecolor='black')\n",
    "plt.show()"
   ]
  },
  {
   "cell_type": "code",
   "execution_count": null,
   "metadata": {},
   "outputs": [],
   "source": [
    "road_gdf.plot(edgecolor='black')\n",
    "plt.show()"
   ]
  },
  {
   "cell_type": "code",
   "execution_count": null,
   "metadata": {},
   "outputs": [],
   "source": [
    "street_gdf.plot(edgecolor='black')\n",
    "plt.show()"
   ]
  },
  {
   "cell_type": "code",
   "execution_count": null,
   "metadata": {},
   "outputs": [],
   "source": [
    "sub_street_gdf.plot(edgecolor='black')\n",
    "plt.show()"
   ]
  },
  {
   "cell_type": "code",
   "execution_count": null,
   "metadata": {},
   "outputs": [],
   "source": [
    "metro_gdf.plot(edgecolor='black')\n",
    "plt.show()"
   ]
  },
  {
   "cell_type": "code",
   "execution_count": null,
   "metadata": {},
   "outputs": [],
   "source": [
    "washroom_gdf.plot(edgecolor='black')\n",
    "plt.show()"
   ]
  },
  {
   "cell_type": "code",
   "execution_count": 432,
   "metadata": {},
   "outputs": [
    {
     "data": {
      "text/html": [
       "<div style=\"width:100%;\"><div style=\"position:relative;width:100%;height:0;padding-bottom:60%;\"><span style=\"color:#565656\">Make this Notebook Trusted to load map: File -> Trust Notebook</span><iframe srcdoc=\"&lt;!DOCTYPE html&gt;\n",
       "&lt;head&gt;    \n",
       "    &lt;meta http-equiv=&quot;content-type&quot; content=&quot;text/html; charset=UTF-8&quot; /&gt;\n",
       "    \n",
       "        &lt;script&gt;\n",
       "            L_NO_TOUCH = false;\n",
       "            L_DISABLE_3D = false;\n",
       "        &lt;/script&gt;\n",
       "    \n",
       "    &lt;style&gt;html, body {width: 100%;height: 100%;margin: 0;padding: 0;}&lt;/style&gt;\n",
       "    &lt;style&gt;#map {position:absolute;top:0;bottom:0;right:0;left:0;}&lt;/style&gt;\n",
       "    &lt;script src=&quot;https://cdn.jsdelivr.net/npm/leaflet@1.6.0/dist/leaflet.js&quot;&gt;&lt;/script&gt;\n",
       "    &lt;script src=&quot;https://code.jquery.com/jquery-1.12.4.min.js&quot;&gt;&lt;/script&gt;\n",
       "    &lt;script src=&quot;https://maxcdn.bootstrapcdn.com/bootstrap/3.2.0/js/bootstrap.min.js&quot;&gt;&lt;/script&gt;\n",
       "    &lt;script src=&quot;https://cdnjs.cloudflare.com/ajax/libs/Leaflet.awesome-markers/2.0.2/leaflet.awesome-markers.js&quot;&gt;&lt;/script&gt;\n",
       "    &lt;link rel=&quot;stylesheet&quot; href=&quot;https://cdn.jsdelivr.net/npm/leaflet@1.6.0/dist/leaflet.css&quot;/&gt;\n",
       "    &lt;link rel=&quot;stylesheet&quot; href=&quot;https://maxcdn.bootstrapcdn.com/bootstrap/3.2.0/css/bootstrap.min.css&quot;/&gt;\n",
       "    &lt;link rel=&quot;stylesheet&quot; href=&quot;https://maxcdn.bootstrapcdn.com/bootstrap/3.2.0/css/bootstrap-theme.min.css&quot;/&gt;\n",
       "    &lt;link rel=&quot;stylesheet&quot; href=&quot;https://maxcdn.bootstrapcdn.com/font-awesome/4.6.3/css/font-awesome.min.css&quot;/&gt;\n",
       "    &lt;link rel=&quot;stylesheet&quot; href=&quot;https://cdnjs.cloudflare.com/ajax/libs/Leaflet.awesome-markers/2.0.2/leaflet.awesome-markers.css&quot;/&gt;\n",
       "    &lt;link rel=&quot;stylesheet&quot; href=&quot;https://cdn.jsdelivr.net/gh/python-visualization/folium/folium/templates/leaflet.awesome.rotate.min.css&quot;/&gt;\n",
       "    \n",
       "            &lt;meta name=&quot;viewport&quot; content=&quot;width=device-width,\n",
       "                initial-scale=1.0, maximum-scale=1.0, user-scalable=no&quot; /&gt;\n",
       "            &lt;style&gt;\n",
       "                #map_90668089e320c1d5e84cab8f69255b29 {\n",
       "                    position: relative;\n",
       "                    width: 100.0%;\n",
       "                    height: 100.0%;\n",
       "                    left: 0.0%;\n",
       "                    top: 0.0%;\n",
       "                }\n",
       "            &lt;/style&gt;\n",
       "        \n",
       "    \n",
       "                    &lt;style&gt;\n",
       "                        .foliumtooltip {\n",
       "                            \n",
       "                        }\n",
       "                       .foliumtooltip table{\n",
       "                            margin: auto;\n",
       "                        }\n",
       "                        .foliumtooltip tr{\n",
       "                            text-align: left;\n",
       "                        }\n",
       "                        .foliumtooltip th{\n",
       "                            padding: 2px; padding-right: 8px;\n",
       "                        }\n",
       "                    &lt;/style&gt;\n",
       "            \n",
       "    \n",
       "    &lt;script src=&quot;https://code.jquery.com/ui/1.12.1/jquery-ui.js&quot;&gt;&lt;/script&gt;\n",
       "    &lt;script&gt;$( function() {\n",
       "        $( &quot;.maplegend&quot; ).draggable({\n",
       "            start: function (event, ui) {\n",
       "                $(this).css({\n",
       "                    right: &quot;auto&quot;,\n",
       "                    top: &quot;auto&quot;,\n",
       "                    bottom: &quot;auto&quot;\n",
       "                });\n",
       "            }\n",
       "        });\n",
       "    });\n",
       "    &lt;/script&gt;\n",
       "    &lt;style type=&#x27;text/css&#x27;&gt;\n",
       "      .maplegend {\n",
       "        position: absolute;\n",
       "        z-index:9999;\n",
       "        background-color: rgba(255, 255, 255, .8);\n",
       "        border-radius: 5px;\n",
       "        box-shadow: 0 0 15px rgba(0,0,0,0.2);\n",
       "        padding: 10px;\n",
       "        font: 12px/14px Arial, Helvetica, sans-serif;\n",
       "        right: 10px;\n",
       "        bottom: 20px;\n",
       "      }\n",
       "      .maplegend .legend-title {\n",
       "        text-align: left;\n",
       "        margin-bottom: 5px;\n",
       "        font-weight: bold;\n",
       "        }\n",
       "      .maplegend .legend-scale ul {\n",
       "        margin: 0;\n",
       "        margin-bottom: 0px;\n",
       "        padding: 0;\n",
       "        float: left;\n",
       "        list-style: none;\n",
       "        }\n",
       "      .maplegend .legend-scale ul li {\n",
       "        list-style: none;\n",
       "        margin-left: 0;\n",
       "        line-height: 16px;\n",
       "        margin-bottom: 2px;\n",
       "        }\n",
       "      .maplegend ul.legend-labels li span {\n",
       "        display: block;\n",
       "        float: left;\n",
       "        height: 14px;\n",
       "        width: 14px;\n",
       "        margin-right: 5px;\n",
       "        margin-left: 0;\n",
       "        border: 0px solid #ccc;\n",
       "        }\n",
       "      .maplegend .legend-source {\n",
       "        color: #777;\n",
       "        clear: both;\n",
       "        }\n",
       "      .maplegend a {\n",
       "        color: #777;\n",
       "        }\n",
       "    &lt;/style&gt;\n",
       "    \n",
       "&lt;/head&gt;\n",
       "&lt;body&gt;    \n",
       "    \n",
       "    &lt;div id=&#x27;maplegend Name&#x27; class=&#x27;maplegend&#x27;&gt;\n",
       "        &lt;div class=&#x27;legend-title&#x27;&gt;Name&lt;/div&gt;\n",
       "        &lt;div class=&#x27;legend-scale&#x27;&gt;\n",
       "            &lt;ul class=&#x27;legend-labels&#x27;&gt;\n",
       "                &lt;li&gt;&lt;span style=&#x27;background:#1f77b4&#x27;&gt;&lt;/span&gt;Bonnie Catlin - Provincial Heart Failure Clinical Nurse Specialist&lt;/li&gt;\n",
       "                &lt;li&gt;&lt;span style=&#x27;background:#ff7f0e&#x27;&gt;&lt;/span&gt;Burnaby Hospital&lt;/li&gt;\n",
       "                &lt;li&gt;&lt;span style=&#x27;background:#2ca02c&#x27;&gt;&lt;/span&gt;CP Saint Health services&lt;/li&gt;\n",
       "                &lt;li&gt;&lt;span style=&#x27;background:#d62728&#x27;&gt;&lt;/span&gt;Door 77 @ Women&#x27;s Health Centre&lt;/li&gt;\n",
       "                &lt;li&gt;&lt;span style=&#x27;background:#9467bd&#x27;&gt;&lt;/span&gt;Lions Gate Hospital&lt;/li&gt;\n",
       "                &lt;li&gt;&lt;span style=&#x27;background:#c49c94&#x27;&gt;&lt;/span&gt;Mount Saint Joseph Hospital: Emergency Department&lt;/li&gt;\n",
       "                &lt;li&gt;&lt;span style=&#x27;background:#f7b6d2&#x27;&gt;&lt;/span&gt;Ospedale Psichiatrico di Collingwood&lt;/li&gt;\n",
       "                &lt;li&gt;&lt;span style=&#x27;background:#c7c7c7&#x27;&gt;&lt;/span&gt;Sleep Disorders program Ubc Hospital&lt;/li&gt;\n",
       "                &lt;li&gt;&lt;span style=&#x27;background:#dbdb8d&#x27;&gt;&lt;/span&gt;Wigs for Kids&lt;/li&gt;\n",
       "                &lt;li&gt;&lt;span style=&#x27;background:#9edae5&#x27;&gt;&lt;/span&gt;李國賢護理安老院&lt;/li&gt;\n",
       "            &lt;/ul&gt;\n",
       "        &lt;/div&gt;\n",
       "    &lt;/div&gt;\n",
       "    \n",
       "    \n",
       "            &lt;div class=&quot;folium-map&quot; id=&quot;map_90668089e320c1d5e84cab8f69255b29&quot; &gt;&lt;/div&gt;\n",
       "        \n",
       "&lt;/body&gt;\n",
       "&lt;script&gt;    \n",
       "    \n",
       "            var map_90668089e320c1d5e84cab8f69255b29 = L.map(\n",
       "                &quot;map_90668089e320c1d5e84cab8f69255b29&quot;,\n",
       "                {\n",
       "                    center: [49.273785193097055, -123.13075839999999],\n",
       "                    crs: L.CRS.EPSG3857,\n",
       "                    zoom: 10,\n",
       "                    zoomControl: true,\n",
       "                    preferCanvas: false,\n",
       "                }\n",
       "            );\n",
       "            L.control.scale().addTo(map_90668089e320c1d5e84cab8f69255b29);\n",
       "\n",
       "            \n",
       "\n",
       "        \n",
       "    \n",
       "            var tile_layer_335efb040cbf80d252e5e7fd850e1a22 = L.tileLayer(\n",
       "                &quot;https://{s}.tile.openstreetmap.org/{z}/{x}/{y}.png&quot;,\n",
       "                {&quot;attribution&quot;: &quot;Data by \\u0026copy; \\u003ca href=\\&quot;http://openstreetmap.org\\&quot;\\u003eOpenStreetMap\\u003c/a\\u003e, under \\u003ca href=\\&quot;http://www.openstreetmap.org/copyright\\&quot;\\u003eODbL\\u003c/a\\u003e.&quot;, &quot;detectRetina&quot;: false, &quot;maxNativeZoom&quot;: 18, &quot;maxZoom&quot;: 18, &quot;minZoom&quot;: 0, &quot;noWrap&quot;: false, &quot;opacity&quot;: 1, &quot;subdomains&quot;: &quot;abc&quot;, &quot;tms&quot;: false}\n",
       "            ).addTo(map_90668089e320c1d5e84cab8f69255b29);\n",
       "        \n",
       "    \n",
       "            map_90668089e320c1d5e84cab8f69255b29.fitBounds(\n",
       "                [[49.22669128619412, -123.2459828], [49.3208791, -123.015534]],\n",
       "                {}\n",
       "            );\n",
       "        \n",
       "    \n",
       "        function geo_json_56163e0372b421d3e8ea488dfd705ceb_styler(feature) {\n",
       "            switch(feature.id) {\n",
       "                case &quot;0&quot;: \n",
       "                    return {&quot;color&quot;: &quot;#1f77b4&quot;, &quot;fillColor&quot;: &quot;#1f77b4&quot;, &quot;fillOpacity&quot;: 0.5, &quot;weight&quot;: 2};\n",
       "                case &quot;1&quot;: \n",
       "                    return {&quot;color&quot;: &quot;#9edae5&quot;, &quot;fillColor&quot;: &quot;#9edae5&quot;, &quot;fillOpacity&quot;: 0.5, &quot;weight&quot;: 2};\n",
       "                case &quot;2&quot;: \n",
       "                    return {&quot;color&quot;: &quot;#9467bd&quot;, &quot;fillColor&quot;: &quot;#9467bd&quot;, &quot;fillOpacity&quot;: 0.5, &quot;weight&quot;: 2};\n",
       "                case &quot;3&quot;: \n",
       "                    return {&quot;color&quot;: &quot;#2ca02c&quot;, &quot;fillColor&quot;: &quot;#2ca02c&quot;, &quot;fillOpacity&quot;: 0.5, &quot;weight&quot;: 2};\n",
       "                case &quot;4&quot;: \n",
       "                    return {&quot;color&quot;: &quot;#dbdb8d&quot;, &quot;fillColor&quot;: &quot;#dbdb8d&quot;, &quot;fillOpacity&quot;: 0.5, &quot;weight&quot;: 2};\n",
       "                case &quot;5&quot;: \n",
       "                    return {&quot;color&quot;: &quot;#d62728&quot;, &quot;fillColor&quot;: &quot;#d62728&quot;, &quot;fillOpacity&quot;: 0.5, &quot;weight&quot;: 2};\n",
       "                case &quot;6&quot;: \n",
       "                    return {&quot;color&quot;: &quot;#f7b6d2&quot;, &quot;fillColor&quot;: &quot;#f7b6d2&quot;, &quot;fillOpacity&quot;: 0.5, &quot;weight&quot;: 2};\n",
       "                case &quot;8&quot;: \n",
       "                    return {&quot;color&quot;: &quot;#c49c94&quot;, &quot;fillColor&quot;: &quot;#c49c94&quot;, &quot;fillOpacity&quot;: 0.5, &quot;weight&quot;: 2};\n",
       "                case &quot;9&quot;: \n",
       "                    return {&quot;color&quot;: &quot;#c7c7c7&quot;, &quot;fillColor&quot;: &quot;#c7c7c7&quot;, &quot;fillOpacity&quot;: 0.5, &quot;weight&quot;: 2};\n",
       "                default:\n",
       "                    return {&quot;color&quot;: &quot;#ff7f0e&quot;, &quot;fillColor&quot;: &quot;#ff7f0e&quot;, &quot;fillOpacity&quot;: 0.5, &quot;weight&quot;: 2};\n",
       "            }\n",
       "        }\n",
       "        function geo_json_56163e0372b421d3e8ea488dfd705ceb_highlighter(feature) {\n",
       "            switch(feature.id) {\n",
       "                default:\n",
       "                    return {&quot;fillOpacity&quot;: 0.75};\n",
       "            }\n",
       "        }\n",
       "        function geo_json_56163e0372b421d3e8ea488dfd705ceb_pointToLayer(feature, latlng) {\n",
       "            var opts = {&quot;bubblingMouseEvents&quot;: true, &quot;color&quot;: &quot;#3388ff&quot;, &quot;dashArray&quot;: null, &quot;dashOffset&quot;: null, &quot;fill&quot;: true, &quot;fillColor&quot;: &quot;#3388ff&quot;, &quot;fillOpacity&quot;: 0.2, &quot;fillRule&quot;: &quot;evenodd&quot;, &quot;lineCap&quot;: &quot;round&quot;, &quot;lineJoin&quot;: &quot;round&quot;, &quot;opacity&quot;: 1.0, &quot;radius&quot;: 2, &quot;stroke&quot;: true, &quot;weight&quot;: 3};\n",
       "            \n",
       "            let style = geo_json_56163e0372b421d3e8ea488dfd705ceb_styler(feature)\n",
       "            Object.assign(opts, style)\n",
       "            \n",
       "            return new L.CircleMarker(latlng, opts)\n",
       "        }\n",
       "\n",
       "        function geo_json_56163e0372b421d3e8ea488dfd705ceb_onEachFeature(feature, layer) {\n",
       "            layer.on({\n",
       "                mouseout: function(e) {\n",
       "                    if(typeof e.target.setStyle === &quot;function&quot;){\n",
       "                        geo_json_56163e0372b421d3e8ea488dfd705ceb.resetStyle(e.target);\n",
       "                    }\n",
       "                },\n",
       "                mouseover: function(e) {\n",
       "                    if(typeof e.target.setStyle === &quot;function&quot;){\n",
       "                        const highlightStyle = geo_json_56163e0372b421d3e8ea488dfd705ceb_highlighter(e.target.feature)\n",
       "                        e.target.setStyle(highlightStyle);\n",
       "                    }\n",
       "                },\n",
       "            });\n",
       "        };\n",
       "        var geo_json_56163e0372b421d3e8ea488dfd705ceb = L.geoJson(null, {\n",
       "                onEachFeature: geo_json_56163e0372b421d3e8ea488dfd705ceb_onEachFeature,\n",
       "            \n",
       "                style: geo_json_56163e0372b421d3e8ea488dfd705ceb_styler,\n",
       "                pointToLayer: geo_json_56163e0372b421d3e8ea488dfd705ceb_pointToLayer\n",
       "        });\n",
       "\n",
       "        function geo_json_56163e0372b421d3e8ea488dfd705ceb_add (data) {\n",
       "            geo_json_56163e0372b421d3e8ea488dfd705ceb\n",
       "                .addData(data)\n",
       "                .addTo(map_90668089e320c1d5e84cab8f69255b29);\n",
       "        }\n",
       "            geo_json_56163e0372b421d3e8ea488dfd705ceb_add({&quot;bbox&quot;: [-123.2459828, 49.22669128619412, -123.015534, 49.3208791], &quot;features&quot;: [{&quot;bbox&quot;: [-123.1297608, 49.279720499999996, -123.1297608, 49.279720499999996], &quot;geometry&quot;: {&quot;coordinates&quot;: [-123.1297608, 49.279720499999996, 0.0], &quot;type&quot;: &quot;Point&quot;}, &quot;id&quot;: &quot;0&quot;, &quot;properties&quot;: {&quot;Name&quot;: &quot;Bonnie Catlin - Provincial Heart Failure Clinical Nurse Specialist&quot;, &quot;__folium_color&quot;: &quot;#1f77b4&quot;, &quot;altitudeMo&quot;: null, &quot;begin&quot;: null, &quot;descriptio&quot;: &quot;\\u003c!DOCTYPE html\\u003e\\u003chtml\\u003e\\u003chead\\u003e\\u003c/head\\u003e\\u003cbody\\u003e\\u003cscript type=\\&quot;text/javascript\\&quot;\\u003ewindow.location.href=\\&quot;https://www.google.com/earth/rpc/entity?lat=49.273785\\u0026lng=-123.13075839999999\\u0026fid=0x410b7dd21b666be1:0xd63f5a2d2e80e1f\\u0026hl=en\\u0026gl=us\\u0026client=earth-client\\u0026cv=7.3.2.5&quot;, &quot;drawOrder&quot;: null, &quot;end&quot;: null, &quot;extrude&quot;: 0, &quot;icon&quot;: null, &quot;placepageU&quot;: &quot;https://www.google.com/earth/rpc/entity?lat=49.273785\\u0026lng=-123.13075839999999\\u0026fid=0x410b7dd21b666be1:0xd63f5a2d2e80e1f\\u0026hl=en\\u0026gl=us\\u0026client=earth-client\\u0026cv=7.3.2.5776\\u0026useragent=GoogleEarth/7.3.2.5776(Windows;Microsoft Windows (6.1.7601.1);en;kml:2.2;client&quot;, &quot;tessellate&quot;: -1, &quot;timestamp&quot;: null, &quot;visibility&quot;: -1}, &quot;type&quot;: &quot;Feature&quot;}, {&quot;bbox&quot;: [-123.1048769, 49.2798007, -123.1048769, 49.2798007], &quot;geometry&quot;: {&quot;coordinates&quot;: [-123.1048769, 49.2798007, 0.0], &quot;type&quot;: &quot;Point&quot;}, &quot;id&quot;: &quot;1&quot;, &quot;properties&quot;: {&quot;Name&quot;: &quot;\\u674e\\u570b\\u8ce2\\u8b77\\u7406\\u5b89\\u8001\\u9662&quot;, &quot;__folium_color&quot;: &quot;#9edae5&quot;, &quot;altitudeMo&quot;: null, &quot;begin&quot;: null, &quot;descriptio&quot;: &quot;\\u003c!DOCTYPE html\\u003e\\u003chtml\\u003e\\u003chead\\u003e\\u003c/head\\u003e\\u003cbody\\u003e\\u003cscript type=\\&quot;text/javascript\\&quot;\\u003ewindow.location.href=\\&quot;https://www.google.com/earth/rpc/entity?lat=49.273785\\u0026lng=-123.13075839999999\\u0026fid=0x5486717af62e76e5:0x43c6f1195dc9323b\\u0026hl=en\\u0026gl=us\\u0026client=earth-client\\u0026cv=7.3.2.&quot;, &quot;drawOrder&quot;: null, &quot;end&quot;: null, &quot;extrude&quot;: 0, &quot;icon&quot;: null, &quot;placepageU&quot;: &quot;https://www.google.com/earth/rpc/entity?lat=49.273785\\u0026lng=-123.13075839999999\\u0026fid=0x5486717af62e76e5:0x43c6f1195dc9323b\\u0026hl=en\\u0026gl=us\\u0026client=earth-client\\u0026cv=7.3.2.5776\\u0026useragent=GoogleEarth/7.3.2.5776(Windows;Microsoft Windows (6.1.7601.1);en;kml:2.2;clien&quot;, &quot;tessellate&quot;: -1, &quot;timestamp&quot;: null, &quot;visibility&quot;: -1}, &quot;type&quot;: &quot;Feature&quot;}, {&quot;bbox&quot;: [-123.06842939999999, 49.3208791, -123.06842939999999, 49.3208791], &quot;geometry&quot;: {&quot;coordinates&quot;: [-123.06842939999999, 49.3208791, 0.0], &quot;type&quot;: &quot;Point&quot;}, &quot;id&quot;: &quot;2&quot;, &quot;properties&quot;: {&quot;Name&quot;: &quot;Lions Gate Hospital&quot;, &quot;__folium_color&quot;: &quot;#9467bd&quot;, &quot;altitudeMo&quot;: null, &quot;begin&quot;: null, &quot;descriptio&quot;: &quot;\\u003c!DOCTYPE html\\u003e\\u003chtml\\u003e\\u003chead\\u003e\\u003c/head\\u003e\\u003cbody\\u003e\\u003cscript type=\\&quot;text/javascript\\&quot;\\u003ewindow.location.href=\\&quot;https://www.google.com/earth/rpc/entity?lat=49.273785\\u0026lng=-123.13075839999999\\u0026fid=0x5486704749155125:0x99287c499a901c66\\u0026hl=en\\u0026gl=us\\u0026client=earth-client\\u0026cv=7.3.2.&quot;, &quot;drawOrder&quot;: null, &quot;end&quot;: null, &quot;extrude&quot;: 0, &quot;icon&quot;: null, &quot;placepageU&quot;: &quot;https://www.google.com/earth/rpc/entity?lat=49.273785\\u0026lng=-123.13075839999999\\u0026fid=0x5486704749155125:0x99287c499a901c66\\u0026hl=en\\u0026gl=us\\u0026client=earth-client\\u0026cv=7.3.2.5776\\u0026useragent=GoogleEarth/7.3.2.5776(Windows;Microsoft Windows (6.1.7601.1);en;kml:2.2;clien&quot;, &quot;tessellate&quot;: -1, &quot;timestamp&quot;: null, &quot;visibility&quot;: -1}, &quot;type&quot;: &quot;Feature&quot;}, {&quot;bbox&quot;: [-123.1361851, 49.28396919999999, -123.1361851, 49.28396919999999], &quot;geometry&quot;: {&quot;coordinates&quot;: [-123.1361851, 49.28396919999999, 0.0], &quot;type&quot;: &quot;Point&quot;}, &quot;id&quot;: &quot;3&quot;, &quot;properties&quot;: {&quot;Name&quot;: &quot;CP Saint Health services&quot;, &quot;__folium_color&quot;: &quot;#2ca02c&quot;, &quot;altitudeMo&quot;: null, &quot;begin&quot;: null, &quot;descriptio&quot;: &quot;\\u003c!DOCTYPE html\\u003e\\u003chtml\\u003e\\u003chead\\u003e\\u003c/head\\u003e\\u003cbody\\u003e\\u003cscript type=\\&quot;text/javascript\\&quot;\\u003ewindow.location.href=\\&quot;https://www.google.com/earth/rpc/entity?lat=49.273785\\u0026lng=-123.13075839999999\\u0026fid=0x54867229562bcaff:0x385be84810f25c67\\u0026hl=en\\u0026gl=us\\u0026client=earth-client\\u0026cv=7.3.2.&quot;, &quot;drawOrder&quot;: null, &quot;end&quot;: null, &quot;extrude&quot;: 0, &quot;icon&quot;: null, &quot;placepageU&quot;: &quot;https://www.google.com/earth/rpc/entity?lat=49.273785\\u0026lng=-123.13075839999999\\u0026fid=0x54867229562bcaff:0x385be84810f25c67\\u0026hl=en\\u0026gl=us\\u0026client=earth-client\\u0026cv=7.3.2.5776\\u0026useragent=GoogleEarth/7.3.2.5776(Windows;Microsoft Windows (6.1.7601.1);en;kml:2.2;clien&quot;, &quot;tessellate&quot;: -1, &quot;timestamp&quot;: null, &quot;visibility&quot;: -1}, &quot;type&quot;: &quot;Feature&quot;}, {&quot;bbox&quot;: [-123.12588040000001, 49.2456672, -123.12588040000001, 49.2456672], &quot;geometry&quot;: {&quot;coordinates&quot;: [-123.12588040000001, 49.2456672, 0.0], &quot;type&quot;: &quot;Point&quot;}, &quot;id&quot;: &quot;4&quot;, &quot;properties&quot;: {&quot;Name&quot;: &quot;Wigs for Kids&quot;, &quot;__folium_color&quot;: &quot;#dbdb8d&quot;, &quot;altitudeMo&quot;: null, &quot;begin&quot;: null, &quot;descriptio&quot;: &quot;\\u003c!DOCTYPE html\\u003e\\u003chtml\\u003e\\u003chead\\u003e\\u003c/head\\u003e\\u003cbody\\u003e\\u003cscript type=\\&quot;text/javascript\\&quot;\\u003ewindow.location.href=\\&quot;https://www.google.com/earth/rpc/entity?lat=49.273785\\u0026lng=-123.13075839999999\\u0026fid=0x5486738ddb8e7847:0x6cea8a2f1d0e93f3\\u0026hl=en\\u0026gl=us\\u0026client=earth-client\\u0026cv=7.3.2.&quot;, &quot;drawOrder&quot;: null, &quot;end&quot;: null, &quot;extrude&quot;: 0, &quot;icon&quot;: null, &quot;placepageU&quot;: &quot;https://www.google.com/earth/rpc/entity?lat=49.273785\\u0026lng=-123.13075839999999\\u0026fid=0x5486738ddb8e7847:0x6cea8a2f1d0e93f3\\u0026hl=en\\u0026gl=us\\u0026client=earth-client\\u0026cv=7.3.2.5776\\u0026useragent=GoogleEarth/7.3.2.5776(Windows;Microsoft Windows (6.1.7601.1);en;kml:2.2;clien&quot;, &quot;tessellate&quot;: -1, &quot;timestamp&quot;: null, &quot;visibility&quot;: -1}, &quot;type&quot;: &quot;Feature&quot;}, {&quot;bbox&quot;: [-123.1226771, 49.24443789999999, -123.1226771, 49.24443789999999], &quot;geometry&quot;: {&quot;coordinates&quot;: [-123.1226771, 49.24443789999999, 0.0], &quot;type&quot;: &quot;Point&quot;}, &quot;id&quot;: &quot;5&quot;, &quot;properties&quot;: {&quot;Name&quot;: &quot;Door 77 @ Women\\u0027s Health Centre&quot;, &quot;__folium_color&quot;: &quot;#d62728&quot;, &quot;altitudeMo&quot;: null, &quot;begin&quot;: null, &quot;descriptio&quot;: &quot;\\u003c!DOCTYPE html\\u003e\\u003chtml\\u003e\\u003chead\\u003e\\u003c/head\\u003e\\u003cbody\\u003e\\u003cscript type=\\&quot;text/javascript\\&quot;\\u003ewindow.location.href=\\&quot;https://www.google.com/earth/rpc/entity?lat=49.273785\\u0026lng=-123.13075839999999\\u0026fid=0x5486738c3f765835:0x3a3f3cb538f67054\\u0026hl=en\\u0026gl=us\\u0026client=earth-client\\u0026cv=7.3.2.&quot;, &quot;drawOrder&quot;: null, &quot;end&quot;: null, &quot;extrude&quot;: 0, &quot;icon&quot;: null, &quot;placepageU&quot;: &quot;https://www.google.com/earth/rpc/entity?lat=49.273785\\u0026lng=-123.13075839999999\\u0026fid=0x5486738c3f765835:0x3a3f3cb538f67054\\u0026hl=en\\u0026gl=us\\u0026client=earth-client\\u0026cv=7.3.2.5776\\u0026useragent=GoogleEarth/7.3.2.5776(Windows;Microsoft Windows (6.1.7601.1);en;kml:2.2;clien&quot;, &quot;tessellate&quot;: -1, &quot;timestamp&quot;: null, &quot;visibility&quot;: -1}, &quot;type&quot;: &quot;Feature&quot;}, {&quot;bbox&quot;: [-123.108912961288, 49.22669128619412, -123.108912961288, 49.22669128619412], &quot;geometry&quot;: {&quot;coordinates&quot;: [-123.108912961288, 49.22669128619412, 0.0], &quot;type&quot;: &quot;Point&quot;}, &quot;id&quot;: &quot;6&quot;, &quot;properties&quot;: {&quot;Name&quot;: &quot;Ospedale Psichiatrico di Collingwood&quot;, &quot;__folium_color&quot;: &quot;#f7b6d2&quot;, &quot;altitudeMo&quot;: null, &quot;begin&quot;: null, &quot;descriptio&quot;: &quot;\\u003c!DOCTYPE html\\u003e\\u003chtml\\u003e\\u003chead\\u003e\\u003c/head\\u003e\\u003cbody\\u003e\\u003cscript type=\\&quot;text/javascript\\&quot;\\u003ewindow.location.href=\\&quot;https://www.google.com/earth/rpc/entity?lat=49.273785\\u0026lng=-123.13075839999999\\u0026fid=0x5486746f0dba45b3:0xf1514be060ea8554\\u0026hl=en\\u0026gl=us\\u0026client=earth-client\\u0026cv=7.3.2.&quot;, &quot;drawOrder&quot;: null, &quot;end&quot;: null, &quot;extrude&quot;: 0, &quot;icon&quot;: null, &quot;placepageU&quot;: &quot;https://www.google.com/earth/rpc/entity?lat=49.273785\\u0026lng=-123.13075839999999\\u0026fid=0x5486746f0dba45b3:0xf1514be060ea8554\\u0026hl=en\\u0026gl=us\\u0026client=earth-client\\u0026cv=7.3.2.5776\\u0026useragent=GoogleEarth/7.3.2.5776(Windows;Microsoft Windows (6.1.7601.1);en;kml:2.2;clien&quot;, &quot;tessellate&quot;: -1, &quot;timestamp&quot;: null, &quot;visibility&quot;: -1}, &quot;type&quot;: &quot;Feature&quot;}, {&quot;bbox&quot;: [-123.015534, 49.249669999999995, -123.015534, 49.249669999999995], &quot;geometry&quot;: {&quot;coordinates&quot;: [-123.015534, 49.249669999999995, 0.0], &quot;type&quot;: &quot;Point&quot;}, &quot;id&quot;: &quot;7&quot;, &quot;properties&quot;: {&quot;Name&quot;: &quot;Burnaby Hospital&quot;, &quot;__folium_color&quot;: &quot;#ff7f0e&quot;, &quot;altitudeMo&quot;: null, &quot;begin&quot;: null, &quot;descriptio&quot;: &quot;\\u003c!DOCTYPE html\\u003e\\u003chtml\\u003e\\u003chead\\u003e\\u003c/head\\u003e\\u003cbody\\u003e\\u003cscript type=\\&quot;text/javascript\\&quot;\\u003ewindow.location.href=\\&quot;https://www.google.com/earth/rpc/entity?lat=49.273785\\u0026lng=-123.13075839999999\\u0026fid=0x548676e77e4f372b:0xf79d5ab0081a6626\\u0026hl=en\\u0026gl=us\\u0026client=earth-client\\u0026cv=7.3.2.&quot;, &quot;drawOrder&quot;: null, &quot;end&quot;: null, &quot;extrude&quot;: 0, &quot;icon&quot;: null, &quot;placepageU&quot;: &quot;https://www.google.com/earth/rpc/entity?lat=49.273785\\u0026lng=-123.13075839999999\\u0026fid=0x548676e77e4f372b:0xf79d5ab0081a6626\\u0026hl=en\\u0026gl=us\\u0026client=earth-client\\u0026cv=7.3.2.5776\\u0026useragent=GoogleEarth/7.3.2.5776(Windows;Microsoft Windows (6.1.7601.1);en;kml:2.2;clien&quot;, &quot;tessellate&quot;: -1, &quot;timestamp&quot;: null, &quot;visibility&quot;: -1}, &quot;type&quot;: &quot;Feature&quot;}, {&quot;bbox&quot;: [-123.0957896, 49.258189300000005, -123.0957896, 49.258189300000005], &quot;geometry&quot;: {&quot;coordinates&quot;: [-123.0957896, 49.258189300000005, 0.0], &quot;type&quot;: &quot;Point&quot;}, &quot;id&quot;: &quot;8&quot;, &quot;properties&quot;: {&quot;Name&quot;: &quot;Mount Saint Joseph Hospital: Emergency Department&quot;, &quot;__folium_color&quot;: &quot;#c49c94&quot;, &quot;altitudeMo&quot;: null, &quot;begin&quot;: null, &quot;descriptio&quot;: &quot;\\u003c!DOCTYPE html\\u003e\\u003chtml\\u003e\\u003chead\\u003e\\u003c/head\\u003e\\u003cbody\\u003e\\u003cscript type=\\&quot;text/javascript\\&quot;\\u003ewindow.location.href=\\&quot;https://www.google.com/earth/rpc/entity?lat=49.273785\\u0026lng=-123.13075839999999\\u0026fid=0x548673e2b61b19f3:0x531a4755f777fae6\\u0026hl=en\\u0026gl=us\\u0026client=earth-client\\u0026cv=7.3.2.&quot;, &quot;drawOrder&quot;: null, &quot;end&quot;: null, &quot;extrude&quot;: 0, &quot;icon&quot;: null, &quot;placepageU&quot;: &quot;https://www.google.com/earth/rpc/entity?lat=49.273785\\u0026lng=-123.13075839999999\\u0026fid=0x548673e2b61b19f3:0x531a4755f777fae6\\u0026hl=en\\u0026gl=us\\u0026client=earth-client\\u0026cv=7.3.2.5776\\u0026useragent=GoogleEarth/7.3.2.5776(Windows;Microsoft Windows (6.1.7601.1);en;kml:2.2;clien&quot;, &quot;tessellate&quot;: -1, &quot;timestamp&quot;: null, &quot;visibility&quot;: -1}, &quot;type&quot;: &quot;Feature&quot;}, {&quot;bbox&quot;: [-123.2459828, 49.2632969, -123.2459828, 49.2632969], &quot;geometry&quot;: {&quot;coordinates&quot;: [-123.2459828, 49.2632969, 0.0], &quot;type&quot;: &quot;Point&quot;}, &quot;id&quot;: &quot;9&quot;, &quot;properties&quot;: {&quot;Name&quot;: &quot;Sleep Disorders program Ubc Hospital&quot;, &quot;__folium_color&quot;: &quot;#c7c7c7&quot;, &quot;altitudeMo&quot;: null, &quot;begin&quot;: null, &quot;descriptio&quot;: &quot;\\u003c!DOCTYPE html\\u003e\\u003chtml\\u003e\\u003chead\\u003e\\u003c/head\\u003e\\u003cbody\\u003e\\u003cscript type=\\&quot;text/javascript\\&quot;\\u003ewindow.location.href=\\&quot;https://www.google.com/earth/rpc/entity?lat=49.273785\\u0026lng=-123.13075839999999\\u0026fid=0x548672c849dc8267:0x48f87981a9bc0870\\u0026hl=en\\u0026gl=us\\u0026client=earth-client\\u0026cv=7.3.2.&quot;, &quot;drawOrder&quot;: null, &quot;end&quot;: null, &quot;extrude&quot;: 0, &quot;icon&quot;: null, &quot;placepageU&quot;: &quot;https://www.google.com/earth/rpc/entity?lat=49.273785\\u0026lng=-123.13075839999999\\u0026fid=0x548672c849dc8267:0x48f87981a9bc0870\\u0026hl=en\\u0026gl=us\\u0026client=earth-client\\u0026cv=7.3.2.5776\\u0026useragent=GoogleEarth/7.3.2.5776(Windows;Microsoft Windows (6.1.7601.1);en;kml:2.2;clien&quot;, &quot;tessellate&quot;: -1, &quot;timestamp&quot;: null, &quot;visibility&quot;: -1}, &quot;type&quot;: &quot;Feature&quot;}], &quot;type&quot;: &quot;FeatureCollection&quot;});\n",
       "\n",
       "        \n",
       "    \n",
       "    geo_json_56163e0372b421d3e8ea488dfd705ceb.bindTooltip(\n",
       "    function(layer){\n",
       "    let div = L.DomUtil.create(&#x27;div&#x27;);\n",
       "    \n",
       "    let handleObject = feature=&gt;typeof(feature)==&#x27;object&#x27; ? JSON.stringify(feature) : feature;\n",
       "    let fields = [&quot;Name&quot;, &quot;descriptio&quot;, &quot;timestamp&quot;, &quot;begin&quot;, &quot;end&quot;, &quot;altitudeMo&quot;, &quot;tessellate&quot;, &quot;extrude&quot;, &quot;visibility&quot;, &quot;drawOrder&quot;, &quot;icon&quot;, &quot;placepageU&quot;];\n",
       "    let aliases = [&quot;Name&quot;, &quot;descriptio&quot;, &quot;timestamp&quot;, &quot;begin&quot;, &quot;end&quot;, &quot;altitudeMo&quot;, &quot;tessellate&quot;, &quot;extrude&quot;, &quot;visibility&quot;, &quot;drawOrder&quot;, &quot;icon&quot;, &quot;placepageU&quot;];\n",
       "    let table = &#x27;&lt;table&gt;&#x27; +\n",
       "        String(\n",
       "        fields.map(\n",
       "        (v,i)=&gt;\n",
       "        `&lt;tr&gt;\n",
       "            &lt;th&gt;${aliases[i]}&lt;/th&gt;\n",
       "            \n",
       "            &lt;td&gt;${handleObject(layer.feature.properties[v])}&lt;/td&gt;\n",
       "        &lt;/tr&gt;`).join(&#x27;&#x27;))\n",
       "    +&#x27;&lt;/table&gt;&#x27;;\n",
       "    div.innerHTML=table;\n",
       "    \n",
       "    return div\n",
       "    }\n",
       "    ,{&quot;className&quot;: &quot;foliumtooltip&quot;, &quot;sticky&quot;: true});\n",
       "                     \n",
       "&lt;/script&gt;\" style=\"position:absolute;width:100%;height:100%;left:0;top:0;border:none !important;\" allowfullscreen webkitallowfullscreen mozallowfullscreen></iframe></div></div>"
      ],
      "text/plain": [
       "<folium.folium.Map at 0x2e4ca23a1c0>"
      ]
     },
     "execution_count": 432,
     "metadata": {},
     "output_type": "execute_result"
    }
   ],
   "source": [
    "hospital_gdf.explore('Name',scheme='geometry')"
   ]
  },
  {
   "cell_type": "code",
   "execution_count": null,
   "metadata": {},
   "outputs": [],
   "source": [
    "boundary_gdf.explore('MAPID',scheme='NAME')"
   ]
  },
  {
   "cell_type": "code",
   "execution_count": null,
   "metadata": {},
   "outputs": [],
   "source": [
    "road_gdf.explore('USE',scheme='HBLOCK')"
   ]
  },
  {
   "cell_type": "code",
   "execution_count": null,
   "metadata": {},
   "outputs": [],
   "source": [
    "street_gdf.explore('TYPE',scheme='STREETNAME')"
   ]
  },
  {
   "cell_type": "code",
   "execution_count": null,
   "metadata": {},
   "outputs": [],
   "source": [
    "sub_street_gdf.explore('FROM_HBLK',scheme='STREETNAME')"
   ]
  },
  {
   "cell_type": "code",
   "execution_count": null,
   "metadata": {},
   "outputs": [],
   "source": [
    "metro_gdf.explore('LINE',scheme='geometry')"
   ]
  },
  {
   "cell_type": "code",
   "execution_count": null,
   "metadata": {},
   "outputs": [],
   "source": [
    "washroom_gdf.explore('Name',scheme='geometry')"
   ]
  },
  {
   "cell_type": "code",
   "execution_count": null,
   "metadata": {},
   "outputs": [],
   "source": [
    "fig, ax = plt.subplots(figsize=(15,10))\n",
    "boundary_gdf.plot(ax=ax)\n",
    "hospital_gdf.plot(ax=ax, color='red', markersize=500)"
   ]
  },
  {
   "cell_type": "code",
   "execution_count": null,
   "metadata": {},
   "outputs": [],
   "source": [
    "fig, ax = plt.subplots(figsize=(15,10))\n",
    "road_gdf.plot(ax=ax)\n",
    "hospital_gdf.plot(ax=ax, color='red', markersize=500)"
   ]
  },
  {
   "cell_type": "code",
   "execution_count": null,
   "metadata": {},
   "outputs": [],
   "source": [
    "fig, ax = plt.subplots(figsize=(15,10))\n",
    "street_gdf.plot(ax=ax)\n",
    "hospital_gdf.plot(ax=ax, color='red', markersize=500)"
   ]
  },
  {
   "cell_type": "code",
   "execution_count": null,
   "metadata": {},
   "outputs": [],
   "source": [
    "fig, ax = plt.subplots(figsize=(15,10))\n",
    "street_gdf.plot(ax=ax)\n",
    "hospital_gdf.plot(ax=ax, color='red', markersize=500)"
   ]
  },
  {
   "cell_type": "code",
   "execution_count": null,
   "metadata": {},
   "outputs": [],
   "source": [
    "fig, ax = plt.subplots(figsize=(15,10))\n",
    "sub_street_gdf.plot(ax=ax)\n",
    "hospital_gdf.plot(ax=ax, color='red', markersize=500)"
   ]
  },
  {
   "cell_type": "code",
   "execution_count": null,
   "metadata": {},
   "outputs": [],
   "source": [
    "fig, ax = plt.subplots(figsize=(15,10))\n",
    "metro_gdf.plot(ax=ax)\n",
    "hospital_gdf.plot(ax=ax, color='red', markersize=500)"
   ]
  },
  {
   "cell_type": "code",
   "execution_count": null,
   "metadata": {},
   "outputs": [],
   "source": [
    "fig, ax = plt.subplots(figsize=(15,10))\n",
    "washroom_gdf.plot(ax=ax)\n",
    "hospital_gdf.plot(ax=ax, color='red', markersize=500)"
   ]
  },
  {
   "cell_type": "code",
   "execution_count": null,
   "metadata": {},
   "outputs": [],
   "source": [
    "fig, ax = plt.subplots(figsize=(15,10))\n",
    "district_gdf.plot(ax=ax)\n",
    "hospital_gdf.plot(ax=ax, color='red', markersize=500)"
   ]
  },
  {
   "cell_type": "code",
   "execution_count": null,
   "metadata": {},
   "outputs": [],
   "source": [
    "fig, ax = plt.subplots(figsize=(15,10))\n",
    "fire_gdf.plot(ax=ax)\n",
    "hospital_gdf.plot(ax=ax, color='red', markersize=500)"
   ]
  },
  {
   "cell_type": "code",
   "execution_count": 422,
   "metadata": {},
   "outputs": [],
   "source": [
    "hospital_gdf = hospital_gdf.to_crs(26910)"
   ]
  },
  {
   "cell_type": "code",
   "execution_count": 423,
   "metadata": {},
   "outputs": [],
   "source": [
    "hospital_gdf_distance=boundary_gdf.buffer(distance=500)"
   ]
  },
  {
   "cell_type": "code",
   "execution_count": 424,
   "metadata": {},
   "outputs": [],
   "source": [
    "hospital_gdf_distance=road_gdf.buffer(distance=100)"
   ]
  },
  {
   "cell_type": "code",
   "execution_count": 425,
   "metadata": {},
   "outputs": [],
   "source": [
    "hospital_gdf_distance=street_gdf.buffer(distance=100)"
   ]
  },
  {
   "cell_type": "code",
   "execution_count": 426,
   "metadata": {},
   "outputs": [],
   "source": [
    "hospital_gdf_distance=sub_street_gdf.buffer(distance=100)"
   ]
  },
  {
   "cell_type": "code",
   "execution_count": 427,
   "metadata": {},
   "outputs": [],
   "source": [
    "hospital_gdf_distance=metro_gdf.buffer(distance=200)"
   ]
  },
  {
   "cell_type": "code",
   "execution_count": 428,
   "metadata": {},
   "outputs": [],
   "source": [
    "hospital_gdf_distance=washroom_gdf.buffer(distance=500)"
   ]
  },
  {
   "cell_type": "code",
   "execution_count": 429,
   "metadata": {},
   "outputs": [],
   "source": [
    "hospital_gdf_distance=fire_gdf.buffer(distance=500)"
   ]
  },
  {
   "cell_type": "code",
   "execution_count": 430,
   "metadata": {},
   "outputs": [],
   "source": [
    "from geopandas import GeoDataFrame\n",
    "hospital_gdf_distance = GeoDataFrame(hospital_gdf_distance, crs=\"EPSG:26910\",geometry=hospital_gdf_distance.geometry)"
   ]
  },
  {
   "cell_type": "code",
   "execution_count": 431,
   "metadata": {},
   "outputs": [
    {
     "data": {
      "text/plain": [
       "<AxesSubplot: >"
      ]
     },
     "execution_count": 431,
     "metadata": {},
     "output_type": "execute_result"
    },
    {
     "data": {
      "image/png": "[encoded data removed]",
      "text/plain": [
       "<Figure size 2000x1000 with 1 Axes>"
      ]
     },
     "metadata": {},
     "output_type": "display_data"
    }
   ],
   "source": [
    "Selected_Area_After_Hospitals = boundary_gdf.overlay(hospital_gdf_distance,how='difference')\n",
    "Selected_Area_After_Hospitals.plot(figsize=(20,10))"
   ]
  }
 ],
 "metadata": {
  "kernelspec": {
   "display_name": "Python 3.9.13 ('geohatarilabs')",
   "language": "python",
   "name": "python3"
  },
  "language_info": {
   "codemirror_mode": {
    "name": "ipython",
    "version": 3
   },
   "file_extension": ".py",
   "mimetype": "text/x-python",
   "name": "python",
   "nbconvert_exporter": "python",
   "pygments_lexer": "ipython3",
   "version": "3.9.13"
  },
  "orig_nbformat": 4,
  "vscode": {
   "interpreter": {
    "hash": "ec84174dd0f51c5b7c7f566b7b8b21e63465ac1a4ca72d89f05f8719037f5a64"
   }
  }
 },
 "nbformat": 4,
 "nbformat_minor": 2
}
